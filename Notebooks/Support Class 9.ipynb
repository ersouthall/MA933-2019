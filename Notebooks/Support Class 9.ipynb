{
 "cells": [
  {
   "cell_type": "code",
   "execution_count": null,
   "metadata": {},
   "outputs": [],
   "source": [
    "import networkx as nx\n",
    "import numpy as np\n",
    "import scipy\n",
    "import matplotlib\n",
    "import matplotlib.pyplot as plt\n",
    "\n",
    "from scipy.stats import binom"
   ]
  },
  {
   "cell_type": "markdown",
   "metadata": {},
   "source": [
    "# Directed Graphs"
   ]
  },
  {
   "cell_type": "code",
   "execution_count": null,
   "metadata": {},
   "outputs": [],
   "source": [
    "G = nx.DiGraph()\n",
    "G.add_edge('a','b')\n",
    "G.add_edge('a','c')\n",
    "G.add_edge('b','c')\n",
    "G.add_edge('a','d')"
   ]
  },
  {
   "cell_type": "code",
   "execution_count": null,
   "metadata": {},
   "outputs": [],
   "source": [
    "plt.figure(figsize = (8,4))\n",
    "nx.draw_networkx(G, with_labels = True, node_size=500, font_size=16, width=1) \n",
    "plt.axis('off');"
   ]
  },
  {
   "cell_type": "markdown",
   "metadata": {},
   "source": [
    "Can have edges in both directions"
   ]
  },
  {
   "cell_type": "code",
   "execution_count": null,
   "metadata": {},
   "outputs": [],
   "source": [
    "G.add_edge('c','a')"
   ]
  },
  {
   "cell_type": "code",
   "execution_count": null,
   "metadata": {},
   "outputs": [],
   "source": [
    "plt.figure(figsize = (8,4))\n",
    "nx.draw_networkx(G, with_labels = True, node_size=500, font_size=16, width=1) \n",
    "plt.axis('off');"
   ]
  },
  {
   "cell_type": "code",
   "execution_count": null,
   "metadata": {},
   "outputs": [],
   "source": [
    "# In Degree of nodes\n",
    "kin = np.array(list(dict(G.in_degree).items()))\n",
    "print('In Degrees: \\n',kin)\n",
    "\n",
    "# Out Degree of nodes\n",
    "kout = np.array(list(dict(G.out_degree).items()))\n",
    "print('\\n Out Degrees: \\n',kout)"
   ]
  },
  {
   "cell_type": "markdown",
   "metadata": {},
   "source": [
    "## Random Directed Graphs"
   ]
  },
  {
   "cell_type": "markdown",
   "metadata": {},
   "source": [
    "### Growing network directed graph\n",
    "- Add nodes one at a time\n",
    "- For each new node, choose a target randomly from existing nodes with probability based on their degree"
   ]
  },
  {
   "cell_type": "code",
   "execution_count": null,
   "metadata": {},
   "outputs": [],
   "source": [
    "G = nx.gn_graph(n=10)"
   ]
  },
  {
   "cell_type": "code",
   "execution_count": null,
   "metadata": {
    "scrolled": true
   },
   "outputs": [],
   "source": [
    "pos = nx.layout.spring_layout(G)\n",
    "nx.draw_networkx(G, pos = pos)"
   ]
  },
  {
   "cell_type": "markdown",
   "metadata": {},
   "source": [
    "### Erdos Renyi random directed graph\n",
    "- Add nodes one at a time\n",
    "- For each new node, choose a target node uniformly at randomly from existing nodes\n",
    "- With probability p, the direction of the edge can be reversed"
   ]
  },
  {
   "cell_type": "code",
   "execution_count": null,
   "metadata": {},
   "outputs": [],
   "source": [
    "N = 100\n",
    "av_degree = 8\n",
    "p = av_degree/(N-1)\n",
    "G = nx.gnp_random_graph(N, p, seed=None, directed=True)"
   ]
  },
  {
   "cell_type": "code",
   "execution_count": null,
   "metadata": {},
   "outputs": [],
   "source": [
    "N = len(G)\n",
    "M = G.number_of_edges()\n",
    "print('Number of nodes:', N)\n",
    "print('Number of edges:', M)"
   ]
  },
  {
   "cell_type": "code",
   "execution_count": null,
   "metadata": {},
   "outputs": [],
   "source": [
    "pos = nx.fruchterman_reingold_layout(G);\n",
    "plt.figure(figsize=(8,8));\n",
    "plt.axis(\"off\");\n",
    "nx.draw_networkx_nodes(G, pos, node_size=300, node_color=\"black\");\n",
    "nx.draw_networkx_edges(G, pos, alpha=0.500);\n",
    "nx.draw_networkx_labels(G, pos, font_color=\"white\");\n",
    "plt.show();"
   ]
  },
  {
   "cell_type": "code",
   "execution_count": null,
   "metadata": {},
   "outputs": [],
   "source": [
    "def in_degree_distribution(GER):\n",
    "    vk = dict(GER.in_degree())\n",
    "    vk = list(vk.values()) # we get only the degree values\n",
    "    maxk = np.max(vk)\n",
    "    mink = np.min(min)\n",
    "    kvalues= np.arange(0,maxk+1) # possible values of k\n",
    "    Pk = np.zeros(maxk+1) # P(k)\n",
    "    for k in vk:\n",
    "        Pk[k] = Pk[k] + 1\n",
    "    Pk = Pk/sum(Pk) # the sum of the elements of P(k) must to be equal to one\n",
    "    return kvalues,Pk\n",
    "\n",
    "def out_degree_distribution(GER):\n",
    "    vk = dict(GER.out_degree())\n",
    "    vk = list(vk.values()) # we get only the degree values\n",
    "    maxk = np.max(vk)\n",
    "    mink = np.min(min)\n",
    "    kvalues= np.arange(0,maxk+1) # possible values of k\n",
    "    Pk = np.zeros(maxk+1) # P(k)\n",
    "    for k in vk:\n",
    "        Pk[k] = Pk[k] + 1\n",
    "    Pk = Pk/sum(Pk) # the sum of the elements of P(k) must to be equal to one\n",
    "    return kvalues,Pk\n",
    "\n",
    "def degree_distribution(GER):\n",
    "    vk = dict(GER.degree())\n",
    "    vk = list(vk.values()) # we get only the degree values\n",
    "    maxk = np.max(vk)\n",
    "    mink = np.min(min)\n",
    "    kvalues= np.arange(0,maxk+1) # possible values of k\n",
    "    Pk = np.zeros(maxk+1) # P(k)\n",
    "    for k in vk:\n",
    "        Pk[k] = Pk[k] + 1\n",
    "    Pk = Pk/sum(Pk) # the sum of the elements of P(k) must to be equal to one\n",
    "    return kvalues,Pk"
   ]
  },
  {
   "cell_type": "code",
   "execution_count": null,
   "metadata": {},
   "outputs": [],
   "source": [
    "ks, Pk = degree_distribution(G)\n",
    "in_ks, in_Pk = in_degree_distribution(G)\n",
    "out_ks, out_Pk = out_degree_distribution(G)"
   ]
  },
  {
   "cell_type": "code",
   "execution_count": null,
   "metadata": {},
   "outputs": [],
   "source": [
    "plt.figure(figsize=(10,5))\n",
    "plt.plot(ks,Pk,'bo', label='Overall degree')\n",
    "plt.plot(in_ks,in_Pk,'go', label='In Degree')\n",
    "plt.plot(out_ks,out_Pk,'ro', label='Out Degree')\n",
    "\n",
    "pk = binom.pmf(ks, N-1, p)\n",
    "plt.plot(ks, pk, 'k', label='Bin(N-1,p)')\n",
    "\n",
    "pk2 = binom.pmf(ks, 2*(N-1), p)\n",
    "plt.plot(ks, pk2, 'k--', label='Bin(2*(N-1),p)')\n",
    "\n",
    "plt.xlabel(\"k\", fontsize=20)\n",
    "plt.ylabel(\"P(k)\", fontsize=20)\n",
    "plt.title(\"Degree distribution\", fontsize=20)\n",
    "plt.grid(True)\n",
    "plt.legend()"
   ]
  },
  {
   "cell_type": "markdown",
   "metadata": {},
   "source": [
    "# Trophic Analysis of Networks\n",
    "## How directed is a directed network?\n",
    "https://royalsocietypublishing.org/doi/pdf/10.1098/rsos.201138\n",
    "\n",
    "For a weakly connected graph G with non-negative edge weight matrix W, define:\n",
    "- $u_n = \\sum_{m} w_{m,n} + \\sum_{m} w_{n,m}$ the total weight of node n\n",
    "- $v_n = \\sum_{m} w_{m,n} - \\sum_{m} w_{n,m}$ the weight imbalance of node n\n",
    "- $\\Lambda = diag(u) - W - W^T$  the symmetrised graph Laplacian\n",
    "\n",
    "The trophic levels of the nodes of G are given by the vector $h$ that solves $\\Lambda h = v$\n",
    "\n",
    "The Trophic Incoherence of the graph G is then \n",
    "$F_0 = \\frac{\\sum_{m,n} w_{m n}(h_n -h_m-1)^2}{\\sum_{m,n} w_{m n}}$\n",
    "\n",
    "$F_0 = 0$ is maximal coherence whereas $F_0 = 1$ is maximal incoherence.\n",
    "\n",
    "Alternative measure for the Trophic Incoherence is $\\eta = \\frac{\\sigma_z}{\\bar{z}} = \\sqrt{\\frac{F_0}{1-F_0}}$ \n",
    "\n",
    "where $\\sigma_z$ is the standard deviation of level differences and $\\bar{z}$ is their edge-weighted mean.\n",
    "\n",
    "*Adapted from code by Niall Rodgers, University of Birmingham"
   ]
  },
  {
   "cell_type": "code",
   "execution_count": null,
   "metadata": {},
   "outputs": [],
   "source": [
    "def get_levels(W): # input graph edge weight matrix W\n",
    "    w_in = W.sum(axis=0) # sum over rows\n",
    "    w_out= W.sum(axis=1) # sum over columns\n",
    "    u = w_in + w_out\n",
    "    v = w_in - w_out\n",
    "\n",
    "    diag_u = np.diag(u)\n",
    "    Lambda = diag_u - (W + W.T)\n",
    "    \n",
    "    #Setting zero of here so that the system of equations is soluble \n",
    "    Lambda[0,0] = 0\n",
    "    h = scipy.linalg.solve(Lambda, v)\n",
    "    h = h - min(h)\n",
    "    \n",
    "    return(h)"
   ]
  },
  {
   "cell_type": "code",
   "execution_count": null,
   "metadata": {},
   "outputs": [],
   "source": [
    "# extract largest connected component of graph\n",
    "def extract_connected(G): # input adjacency matrix\n",
    "    largest_cc = max(nx.weakly_connected_components(G), key=len)\n",
    "    G2 = G.subgraph(largest_cc)\n",
    "    \n",
    "    if len(G)==len(G2):\n",
    "        print('The Graph was already at least weakly connected')     \n",
    "    else:\n",
    "        print('Warning: The disconnected parts have been removed')\n",
    "        print('The Original graph had ' + str(len(G)) + ' nodes')\n",
    "        print('The Subgraph has ' + str(len(G)) + 'nodes')\n",
    "    \n",
    "    return(G2)"
   ]
  },
  {
   "cell_type": "code",
   "execution_count": null,
   "metadata": {},
   "outputs": [],
   "source": [
    "def calc_troph_incoh(W,h):\n",
    "    edgelist = np.array(np.nonzero(W)).T\n",
    "    edgelist = edgelist.astype(int)\n",
    "    \n",
    "    # normalizing factor (the denominator)\n",
    "    L = np.sum(W) \n",
    "    \n",
    "    # level differences between target and source nodes\n",
    "    z = h[(edgelist[:,1])] - h[(edgelist[:,0])] \n",
    "    \n",
    "    w_flat = W[edgelist[:,0],edgelist[:,1]]\n",
    "    F = np.sum(w_flat*((z-1)**2))/L\n",
    "    eta = np.sqrt(F/(1-F))\n",
    "    etacheck = (np.sqrt(np.var(z))/np.average(z))\n",
    "    \n",
    "    if (np.abs(eta - etacheck))>0.0001:\n",
    "        print('Warning:Eta is differnt when calculated in two different ways there must be an error')\n",
    "    \n",
    "    print('The Trophic Incohernce is '+ str(F))\n",
    "    print('The Eta is  '+ str(eta))\n",
    "    \n",
    "    return(F, eta)"
   ]
  },
  {
   "cell_type": "code",
   "execution_count": null,
   "metadata": {},
   "outputs": [],
   "source": [
    "G = extract_connected(G)\n",
    "W = nx.to_numpy_array(G)\n",
    "h = get_levels(W)\n",
    "\n",
    "F, eta = calc_troph_incoh(W,h)"
   ]
  },
  {
   "cell_type": "code",
   "execution_count": null,
   "metadata": {},
   "outputs": [],
   "source": [
    "troph_positions = {}\n",
    "for i in range (len(h)):\n",
    "    troph_positions[i]= [np.random.random(),h[i]]\n",
    "\n",
    "pos = troph_positions"
   ]
  },
  {
   "cell_type": "code",
   "execution_count": null,
   "metadata": {},
   "outputs": [],
   "source": [
    "fig, ax = plt.subplots(figsize=(6, 10))\n",
    "\n",
    "#networkx drawing call \n",
    "nx.draw(G, pos, node_size=40, node_color='b', ax=ax)\n",
    "\n",
    "# turn the axis on\n",
    "ax.set_axis_on()\n",
    "ax.tick_params(left=True, bottom=True, labelleft=True, labelbottom=True)\n",
    "plt.ylabel('Trophic Level')\n",
    "plt.xlabel('Trophic incoherence = ' + \"{:.2f}\".format(F))\n",
    "ax.xaxis.set_major_formatter(plt.NullFormatter())\n",
    "plt.xticks([], [])"
   ]
  },
  {
   "cell_type": "markdown",
   "metadata": {},
   "source": [
    "# Sample Real-World Networks\n",
    "Available in Network_Data folder\n",
    "\n",
    "Some examples to try:\n",
    "- net_celegans_neural.dat in Neural\n",
    "- Ythan96.dat in FoodWebs\n",
    "- net_e_coli.dat in Genetic\n",
    "- net_moreno_highschool.dat in Social"
   ]
  },
  {
   "cell_type": "code",
   "execution_count": null,
   "metadata": {},
   "outputs": [],
   "source": [
    "# edgelist=np.loadtxt('Network_Data/FoodWebs/Ythan96.dat')\n",
    "edgelist=np.loadtxt('Network_Data/Neural/net_celegans_neural.dat')\n",
    "# edgelist=np.loadtxt('Network_Data/Genetic/net_e_coli.dat')\n",
    "# edgelist=np.loadtxt('Network_Data/Social/net_moreno_highschool.dat')"
   ]
  },
  {
   "cell_type": "code",
   "execution_count": null,
   "metadata": {},
   "outputs": [],
   "source": [
    "graph = nx.DiGraph()\n",
    "graph.add_edges_from(edgelist)"
   ]
  },
  {
   "cell_type": "code",
   "execution_count": null,
   "metadata": {},
   "outputs": [],
   "source": [
    "nx.draw_networkx(graph,with_labels=False,node_size=40)"
   ]
  },
  {
   "cell_type": "code",
   "execution_count": null,
   "metadata": {},
   "outputs": [],
   "source": [
    "G = extract_connected(graph)\n",
    "nodes = np.sort(list(G.nodes))\n",
    "W = nx.to_numpy_array(G)\n",
    "h = get_levels(W)\n",
    "F, eta = calc_troph_incoh(W,h)"
   ]
  },
  {
   "cell_type": "code",
   "execution_count": null,
   "metadata": {},
   "outputs": [],
   "source": [
    "troph_positions = {}\n",
    "for i in range (len(h)):\n",
    "    troph_positions[nodes[i]]= [np.random.random(),h[i]]\n",
    "\n",
    "pos = troph_positions"
   ]
  },
  {
   "cell_type": "code",
   "execution_count": null,
   "metadata": {},
   "outputs": [],
   "source": [
    "fig, ax = plt.subplots(figsize=(6, 10))\n",
    "\n",
    "#networkx drawing call \n",
    "nx.draw(G, pos, node_size=40, node_color='b', ax=ax)\n",
    "\n",
    "# turn the axis on\n",
    "ax.set_axis_on()\n",
    "ax.tick_params(left=True, bottom=True, labelleft=True, labelbottom=True)\n",
    "plt.ylabel('Trophic Level')\n",
    "plt.xlabel('Trophic incoherence = ' + \"{:.2f}\".format(F))\n",
    "ax.xaxis.set_major_formatter(plt.NullFormatter())\n",
    "plt.xticks([], [])"
   ]
  },
  {
   "cell_type": "code",
   "execution_count": null,
   "metadata": {},
   "outputs": [],
   "source": []
  }
 ],
 "metadata": {
  "kernelspec": {
   "display_name": "Python 3",
   "language": "python",
   "name": "python3"
  },
  "language_info": {
   "codemirror_mode": {
    "name": "ipython",
    "version": 3
   },
   "file_extension": ".py",
   "mimetype": "text/x-python",
   "name": "python",
   "nbconvert_exporter": "python",
   "pygments_lexer": "ipython3",
   "version": "3.7.9"
  }
 },
 "nbformat": 4,
 "nbformat_minor": 4
}

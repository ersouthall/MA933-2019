{
 "cells": [
  {
   "cell_type": "code",
   "execution_count": null,
   "metadata": {},
   "outputs": [],
   "source": [
    "import matplotlib.pyplot as plt\n",
    "import seaborn as sns\n",
    "\n",
    "import networkx as nx\n",
    "import numpy as np\n",
    "\n",
    "from scipy import stats\n",
    "from scipy.stats import poisson\n",
    "from statsmodels.distributions.empirical_distribution import ECDF\n",
    "\n",
    "import sdeint"
   ]
  },
  {
   "cell_type": "code",
   "execution_count": null,
   "metadata": {},
   "outputs": [],
   "source": [
    "import random\n",
    "import time"
   ]
  },
  {
   "cell_type": "markdown",
   "metadata": {},
   "source": [
    "### Barabasi-Albert Model\n",
    "**Definition**: starting with a complete graph of $m_0$ nodes, at each time step $t = 1,...,N-m_0$ a new node $j = t+m_0$ is added.\n",
    "\n",
    "It forms $m\\leq m_0$ undirected edges with existing nodes with a probability proportional to their degree $\\pi_{j,i} = \\frac{k_i}{\\sum_{l \\in V_{t-1}}k_l} $.\n",
    "\n",
    "Result is an undirected graph of $N$ nodes and $K = \\frac{m_0(m_0-1)}{2} + m(N-m_0)$ edges."
   ]
  },
  {
   "cell_type": "code",
   "execution_count": null,
   "metadata": {},
   "outputs": [],
   "source": [
    "m0 = 5 #initial number of nodes\n",
    "m = 5 #5 edges added each time (preferential attachment)\n",
    "N = 100\n",
    "G = nx.barabasi_albert_graph(N, m) #The initialization is a graph with with m nodes and no edges."
   ]
  },
  {
   "cell_type": "code",
   "execution_count": null,
   "metadata": {},
   "outputs": [],
   "source": [
    "N = len(G)\n",
    "M = G.number_of_edges()\n",
    "print('Number of nodes:', N)\n",
    "print('Number of edges:', M)\n",
    "print('Average degre:', 2*M/N)"
   ]
  },
  {
   "cell_type": "code",
   "execution_count": null,
   "metadata": {},
   "outputs": [],
   "source": [
    "pos = nx.fruchterman_reingold_layout(G);\n",
    "#pos = nx.circular_layout(G);\n",
    "plt.figure(figsize=(8,8));\n",
    "plt.axis(\"off\");\n",
    "nx.draw_networkx_nodes(G, pos, node_size=300, node_color=\"black\");\n",
    "nx.draw_networkx_edges(G, pos, alpha=0.500);\n",
    "nx.draw_networkx_labels(G, pos, font_color=\"white\");\n",
    "plt.show();"
   ]
  },
  {
   "cell_type": "code",
   "execution_count": null,
   "metadata": {},
   "outputs": [],
   "source": [
    "def degree_distribution(GER):\n",
    "    vk = dict(GER.degree())\n",
    "    vk = list(vk.values()) # we get only the degree values\n",
    "    maxk = np.max(vk)\n",
    "    mink = np.min(min)\n",
    "    kvalues= np.arange(0,maxk+1) # possible values of k\n",
    "    Pk = np.zeros(maxk+1) # P(k)\n",
    "    for k in vk:\n",
    "        Pk[k] = Pk[k] + 1\n",
    "    Pk = Pk/sum(Pk) # the sum of the elements of P(k) must to be equal to one\n",
    "    return kvalues,Pk"
   ]
  },
  {
   "cell_type": "code",
   "execution_count": null,
   "metadata": {},
   "outputs": [],
   "source": [
    "Count_degree = list(dict(G.degree()).values())"
   ]
  },
  {
   "cell_type": "code",
   "execution_count": null,
   "metadata": {},
   "outputs": [],
   "source": [
    "ks, Pk = degree_distribution(G)"
   ]
  },
  {
   "cell_type": "markdown",
   "metadata": {},
   "source": [
    "**Degree Distribution for a single realisation** - Notice the probability of a lot of the degrees $p(k)$ are 0. For this reason we plot the tail of the degree distribution (1-CDF).\n",
    "\n",
    "To do this we can get \"exact\" cdf with `np.cumsum` (not very smooth) or review `Support_Class_2.ipynb` where we calculated a histogram with the data Count_degree to get bins/approximations."
   ]
  },
  {
   "cell_type": "code",
   "execution_count": null,
   "metadata": {},
   "outputs": [],
   "source": [
    "plt.figure()\n",
    "plt.plot(ks,Pk,'bo', label='Data')\n",
    "plt.xlabel(\"k\", fontsize=20)\n",
    "plt.ylabel(\"P(k)\", fontsize=20)\n",
    "plt.title(\"Degree distribution\", fontsize=20)\n",
    "plt.grid(True)"
   ]
  },
  {
   "cell_type": "code",
   "execution_count": null,
   "metadata": {},
   "outputs": [],
   "source": [
    "plt.figure()\n",
    "cdf = np.cumsum(Pk)\n",
    "x = np.linspace(np.min(Count_degree),np.max(Count_degree),10000)\n",
    "plt.plot(range(len(cdf)), 1-cdf, '--', label ='One realisation, empirical tail ')\n",
    "plt.plot(x, x**(-2), label = 'power law')\n",
    "plt.xlabel('degree, k', fontsize = 16)\n",
    "plt.title('Empirical Tail (1 realisation)', fontsize = 16)\n",
    "plt.xlim([np.min(Count_degree),np.max(Count_degree)])\n",
    "plt.xscale('log')\n",
    "plt.yscale('log')\n",
    "plt.legend(fontsize = 12)"
   ]
  },
  {
   "cell_type": "code",
   "execution_count": null,
   "metadata": {},
   "outputs": [],
   "source": [
    "realisations = 20\n",
    "m = 5\n",
    "N =1000\n",
    "degrees = []\n",
    "for r in range(realisations):\n",
    "    G= nx.barabasi_albert_graph(N,m)\n",
    "    Count_degree = list(dict(G.degree()).values())\n",
    "    degrees.append(Count_degree)\n",
    "degrees = np.array(degrees)\n",
    "degrees = degrees.flatten()"
   ]
  },
  {
   "cell_type": "code",
   "execution_count": null,
   "metadata": {},
   "outputs": [],
   "source": [
    "ecdf_deg = ECDF(degrees)"
   ]
  },
  {
   "cell_type": "code",
   "execution_count": null,
   "metadata": {},
   "outputs": [],
   "source": [
    "plt.figure()\n",
    "# bins, deg = one_cdf(degrees)\n",
    "plt.plot(ecdf_deg.x, np.ones(len(ecdf_deg.y))-ecdf_deg.y, '--', label = '20 realisations, empirical tail')\n",
    "Xx = np.linspace(min(degrees), max(degrees), 1000)\n",
    "plt.plot(Xx, Xx**(-2), label = 'Power law')\n",
    "plt.title('Empirical Tail (20 realisations)', fontsize = 16)\n",
    "\n",
    "plt.legend(fontsize =12)\n",
    "plt.xlabel('degree, k', fontsize = 16)\n",
    "plt.xscale('log')\n",
    "plt.yscale('log')\n",
    "plt.xlim([np.min(degrees),np.max(degrees)])\n",
    "plt.ylim([1e-6, 1])"
   ]
  },
  {
   "cell_type": "markdown",
   "metadata": {},
   "source": [
    "**Uncorrelated or (dis-)assortative?**\n",
    "\n",
    "Expected degree of nearest neighbour, given node has node $k$:\n",
    "\n",
    "$$k_{nn}(k) = \\mathbb{E}\\left[ \\frac{\\sum_{i \\in V} k_{nn, i} \\delta_{k_i,k}}{\\sum_{i \\in V} \\delta_{k_i, k} } \\right], \\ \\text{where} \\ k_{nn,i} = \\frac{1}{k_i} \\sum_{j \\in V} a_{ij}k_j$$\n",
    "\n",
    "To find $k_{nn,i}$ we can use `nx.average_neighbor_degree(G)`"
   ]
  },
  {
   "cell_type": "code",
   "execution_count": null,
   "metadata": {},
   "outputs": [],
   "source": [
    "m = 10\n",
    "N = 1000\n",
    "G = nx.barabasi_albert_graph(N, m) "
   ]
  },
  {
   "cell_type": "code",
   "execution_count": null,
   "metadata": {},
   "outputs": [],
   "source": [
    "def k_nn(G,kmax):\n",
    "    knn = np.zeros(kmax) #be careful if you get zeros! There are undefined ( can't divide through by zero)\n",
    "    Degrees = list(dict(G.degree()).values())\n",
    "    Degrees = np.array(Degrees)\n",
    "    knn_i = np.array(list(nx.average_neighbor_degree(G).values()))\n",
    "    for k in range(kmax):\n",
    "        delta_ki_k = np.equal(Degrees, k).astype(int)\n",
    "        numerator = np.sum(delta_ki_k*knn_i)\n",
    "        denominator = np.sum(delta_ki_k)\n",
    "        if denominator !=0:\n",
    "            knn[k] = numerator/denominator\n",
    "    return knn"
   ]
  },
  {
   "cell_type": "code",
   "execution_count": null,
   "metadata": {},
   "outputs": [],
   "source": [
    "realisations = 20\n",
    "kmax = 200\n",
    "M = np.zeros((kmax, realisations))\n",
    "for i in range(realisations):\n",
    "    G = nx.barabasi_albert_graph(N,m)\n",
    "    knn_final = k_nn(G, kmax)\n",
    "    for k in range(len(knn_final)):\n",
    "        if knn_final[k] == 0:\n",
    "            knn_final[k] = None #undefined values\n",
    "    M[:,i] = knn_final"
   ]
  },
  {
   "cell_type": "code",
   "execution_count": null,
   "metadata": {},
   "outputs": [],
   "source": [
    "Average = np.mean(M, axis = 1)"
   ]
  },
  {
   "cell_type": "code",
   "execution_count": null,
   "metadata": {},
   "outputs": [],
   "source": [
    "plt.figure(figsize = (5,5))\n",
    "plt.plot(range(kmax), Average, 'x')\n",
    "plt.xlabel('k, Degree of node', fontsize = 16)\n",
    "plt.ylabel(r'$k_{nn}(k)$ ', fontsize = 16)"
   ]
  },
  {
   "cell_type": "markdown",
   "metadata": {},
   "source": [
    "# Problem sheet 3 - Contact Process"
   ]
  },
  {
   "cell_type": "markdown",
   "metadata": {},
   "source": [
    "The contact process in 1D has rates to flip the state of agent i given by\n",
    "$$\n",
    "c(\\eta ,\\eta^i )=\\eta (i)+\\lambda\\big( 1-\\eta (i)\\big)\\big(\\eta (i+1)+\\eta (i-1)\\big)\\ .\n",
    "$$\n",
    "We implement a rejection-based random sequential algorithm. The local rates at i are: 1 for recovery, $\\lambda$ for infection with one infected neighbour, and $2\\lambda$ for two infected neighbours."
   ]
  },
  {
   "cell_type": "markdown",
   "metadata": {},
   "source": [
    "### Simulation:\n",
    "- Sample a sites $i$ uniformly, independently with rate $L*rmax=2\\lambda L$. \n",
    "- update site $i$ with correct probability\n",
    "\n",
    "I tried several versions and this seems to be the fastest Python can do, with drawing a list of random variables in advance using np.random. Still this is nowhere near the speed needed to do the homework...\n",
    "\n",
    "$\\Rightarrow$ do NOT use Python for more involved MC simulations"
   ]
  },
  {
   "cell_type": "code",
   "execution_count": null,
   "metadata": {},
   "outputs": [],
   "source": [
    "### Parameters ###\n",
    "\n",
    "runs=10   ## of simulations for average\n",
    "\n",
    "𝜆=1.68    #infection rate\n",
    "L=128     ## of agents\n",
    "\n",
    "tmax=10.*L     #simulation time\n",
    "outs=200       ## of outputs in time\n",
    "deltat=tmax/outs   #time between outputs\n",
    "\n",
    "rates=[0.,𝜆,2*𝜆,1.]\n",
    "rmax=max(rates)\n",
    "pr=[x/rmax for x in rates]\n",
    "\n",
    "wait=1./(L*rmax)\n",
    "\n",
    "#################\n",
    "\n",
    "N=np.zeros(outs, dtype=int)              #initialize fraction of infecteds vector\n",
    "\n",
    "t0=time.time()\n",
    "\n",
    "for k in range(0, runs):\n",
    "    randi=np.random.randint(L, size=int((tmax+2)*L*rmax))   #generate enough random indices\n",
    "    randu=np.random.random_sample(int((tmax+2)*L*rmax))       #random uniforms\n",
    "    rind=0                                                    #index for rands\n",
    "\n",
    "    𝜂=np.ones((L,), dtype=int)   #initialize current configuration\n",
    "    nii=L                        ## of infecteds\n",
    "    \n",
    "    t=0.0\n",
    "    nextout=deltat\n",
    "    kout=0\n",
    "    \n",
    "    while (t<tmax): # loop until done \n",
    "        while (t<nextout):\n",
    "#            wait=np.random.exponential(meanwait) # random holding time\n",
    "            pos=randi[rind]      #select which site to try and flip\n",
    "            if (𝜂[pos]==1):\n",
    "                # infected case\n",
    "                if (randu[rind]<pr[3]): #try flip\n",
    "                    𝜂[pos]=0  # site recovers\n",
    "                    nii+=-1   # decrease number of infected \n",
    "            else:\n",
    "                # uninfected case \n",
    "                nin=𝜂[(pos+1)%L]+𝜂[(pos-1)%L]\n",
    "                if (randu[rind]<pr[nin]):\n",
    "                    𝜂[pos]=1  # site becomes infected\n",
    "                    nii+=1    # increase number of infected\n",
    "            rind+=1 # move to next site\n",
    "            t+=wait # update lapsed time\n",
    "            \n",
    "        N[kout]+=nii\n",
    "        kout+=1\n",
    "        nextout+=deltat\n",
    "    \n",
    "Nnorm = [1.*x/(runs*L) for x in N]\n",
    "\n",
    "t1=time.time()\n",
    "print(t1-t0)"
   ]
  },
  {
   "cell_type": "code",
   "execution_count": null,
   "metadata": {},
   "outputs": [],
   "source": [
    "times=np.arange(np.shape(N)[0])*deltat"
   ]
  },
  {
   "cell_type": "code",
   "execution_count": null,
   "metadata": {},
   "outputs": [],
   "source": [
    "plt.figure(figsize = (15,8))\n",
    "plt.plot(times,Nnorm,'o')\n",
    "\n",
    "plt.xscale('log')\n",
    "plt.yscale('log')\n",
    "    \n",
    "plt.xlabel('Time, $t$', fontsize = 20)\n",
    "plt.ylabel('$N_t /L$', fontsize= 20)\n",
    "\n",
    "plt.title(\"$N_t$ Number of individuals of each species \\n out of total population size L = {}\".format(L), fontsize = 20)"
   ]
  },
  {
   "cell_type": "code",
   "execution_count": null,
   "metadata": {},
   "outputs": [],
   "source": [
    "data1 = np.loadtxt(\"contact_n512/contact_n512_l16.3.dat\", delimiter=' ')\n",
    "data2 = np.loadtxt(\"contact_n512/contact_n512_l16.4.dat\", delimiter=' ')\n",
    "data3 = np.loadtxt(\"contact_n512/contact_n512_l16.5.dat\", delimiter=' ')\n",
    "data4 = np.loadtxt(\"contact_n512/contact_n512_l16.6.dat\", delimiter=' ')\n",
    "data5 = np.loadtxt(\"contact_n512/contact_n512_l16.7.dat\", delimiter=' ')\n",
    "data6 = np.loadtxt(\"contact_n512/contact_n512_l16.8.dat\", delimiter=' ')"
   ]
  },
  {
   "cell_type": "code",
   "execution_count": null,
   "metadata": {},
   "outputs": [],
   "source": [
    "ydata1=sum([data1[k*200:(k+1)*200,0] for k in range(500)])/500/512;\n",
    "ydata2=sum([data2[k*200:(k+1)*200,0] for k in range(500)])/500/512;\n",
    "ydata3=sum([data3[k*200:(k+1)*200,0] for k in range(500)])/500/512;\n",
    "ydata4=sum([data4[k*200:(k+1)*200,0] for k in range(500)])/500/512;\n",
    "ydata5=sum([data5[k*200:(k+1)*200,0] for k in range(500)])/500/512;\n",
    "ydata6=sum([data6[k*200:(k+1)*200,0] for k in range(500)])/500/512;"
   ]
  },
  {
   "cell_type": "code",
   "execution_count": null,
   "metadata": {},
   "outputs": [],
   "source": [
    "times=data1[0:200,1];"
   ]
  },
  {
   "cell_type": "code",
   "execution_count": null,
   "metadata": {},
   "outputs": [],
   "source": [
    "plt.figure(figsize = (15,8))\n",
    "plt.plot(times,ydata1)\n",
    "plt.plot(times,ydata2)\n",
    "plt.plot(times,ydata3)\n",
    "plt.plot(times,ydata4)\n",
    "plt.plot(times,ydata5)\n",
    "plt.plot(times,ydata6)\n",
    "\n",
    "\n",
    "plt.xscale('log')\n",
    "plt.yscale('log')\n",
    "    \n",
    "plt.xlabel('Time, $t$', fontsize = 20)\n",
    "plt.ylabel('$N_t /L$', fontsize= 20)"
   ]
  },
  {
   "cell_type": "markdown",
   "metadata": {},
   "source": [
    "#  Mean-field Contact Process"
   ]
  },
  {
   "cell_type": "markdown",
   "metadata": {},
   "source": [
    "## Simulate total number of infecteds"
   ]
  },
  {
   "cell_type": "code",
   "execution_count": null,
   "metadata": {},
   "outputs": [],
   "source": [
    "### Parameters ###\n",
    "\n",
    "L=512     ## of agents\n",
    "lah=1.1\n",
    "𝜆=lah/L    #infection rate\n",
    "\n",
    "tmax=10.     #simulation time\n",
    "outs=500       ## of outputs in time\n",
    "deltat=tmax/outs   #time between outputs\n",
    "\n",
    "\n",
    "#################\n",
    "\n",
    "N=np.ones(outs+1)              #initialize output vector (normalized)\n",
    "state=50                                 #initialize current state \n",
    "N[0]=0.1\n",
    "\n",
    "tt=[1./(𝜆*(L-n)*n+n) for n in (np.arange(L)+1)]\n",
    "tt=np.concatenate(([0],tt))\n",
    "pm=[1./(𝜆*(L-m)+1.) for m in (np.arange(L)+1)]\n",
    "pm=np.concatenate(([0],pm))\n",
    "\n",
    "t0=time.time()\n",
    "\n",
    "t=0.0\n",
    "nextout=deltat\n",
    "kout=1\n",
    "\n",
    "while (t<tmax): # loop until done \n",
    "    while (t<nextout):\n",
    "        t+=tt[state]\n",
    "        if (random.random()<pm[state]):\n",
    "            state+=-1\n",
    "        else:\n",
    "            state+=+1\n",
    "        if (state==0):\n",
    "            t=tmax+1.\n",
    "    N[kout]=(state+0.)/(L+0.)\n",
    "    kout+=1\n",
    "    nextout+=deltat\n",
    "\n",
    "t1=time.time()\n",
    "print(str(t1-t0)+'seconds')"
   ]
  },
  {
   "cell_type": "code",
   "execution_count": null,
   "metadata": {},
   "outputs": [],
   "source": [
    "times=np.arange(np.shape(N)[0])*deltat"
   ]
  },
  {
   "cell_type": "code",
   "execution_count": null,
   "metadata": {},
   "outputs": [],
   "source": [
    "plt.figure(figsize = (15,8))\n",
    "plt.plot(times,N,'r')\n",
    "\n",
    "#plt.xscale('log')\n",
    "#plt.yscale('log')\n",
    "    \n",
    "plt.xlabel('Time, $t$', fontsize = 20)\n",
    "plt.ylabel('$N_t /L$', fontsize= 20)\n",
    "\n",
    "#plt.title(\"$N_t $ Number of individuals of each species \\n out of total population size L = {}\".format(L), fontsize = 20)"
   ]
  },
  {
   "cell_type": "code",
   "execution_count": null,
   "metadata": {},
   "outputs": [],
   "source": [
    "def fX(x, t):\n",
    "    return lah*(1-x)*x-x\n",
    "\n",
    "def gX(x, t):\n",
    "    return np.sqrt((lah*(1-x)*x+x)/L)\n",
    "\n",
    "def gY(x, t):\n",
    "    return 0.\n",
    "\n",
    "Xt = sdeint.itoint(fX, gX, 0.1, times)\n",
    "Yt = sdeint.itoint(fX, gY, 0.1, times)"
   ]
  },
  {
   "cell_type": "code",
   "execution_count": null,
   "metadata": {},
   "outputs": [],
   "source": [
    "plt.figure(figsize = (15,8))\n",
    "plt.plot(times,Xt)\n",
    "plt.plot(times,N,'r')\n",
    "plt.plot(times,Yt,'k')\n",
    "\n",
    "#plt.xscale('log')\n",
    "#plt.yscale('log')\n",
    "    \n",
    "plt.xlabel('Time, $t$', fontsize = 20)\n",
    "plt.ylabel('$N_t /L$', fontsize= 20)"
   ]
  },
  {
   "cell_type": "code",
   "execution_count": null,
   "metadata": {},
   "outputs": [],
   "source": []
  }
 ],
 "metadata": {
  "kernelspec": {
   "display_name": "Python 3",
   "language": "python",
   "name": "python3"
  },
  "language_info": {
   "codemirror_mode": {
    "name": "ipython",
    "version": 3
   },
   "file_extension": ".py",
   "mimetype": "text/x-python",
   "name": "python",
   "nbconvert_exporter": "python",
   "pygments_lexer": "ipython3",
   "version": "3.7.9"
  }
 },
 "nbformat": 4,
 "nbformat_minor": 2
}

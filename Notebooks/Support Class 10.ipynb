{
 "cells": [
  {
   "cell_type": "code",
   "execution_count": null,
   "metadata": {},
   "outputs": [],
   "source": [
    "import networkx as nx\n",
    "import numpy as np\n",
    "import scipy\n",
    "import matplotlib\n",
    "import matplotlib.pyplot as plt\n",
    "from scipy.cluster import hierarchy\n",
    "\n",
    "import networkx.algorithms.community as nx_comm\n",
    "import random"
   ]
  },
  {
   "cell_type": "markdown",
   "metadata": {},
   "source": [
    "`pip install markov_clustering[drawing]`\n",
    "\n",
    "https://markov-clustering.readthedocs.io/en/latest/readme.html"
   ]
  },
  {
   "cell_type": "code",
   "execution_count": null,
   "metadata": {},
   "outputs": [],
   "source": [
    "import markov_clustering as mc"
   ]
  },
  {
   "cell_type": "markdown",
   "metadata": {},
   "source": [
    "# Community Detection\n",
    "Partition the graph into subsets (communities) of nodes that more connected to each other than they are with nodes from other subsets.\n",
    "\n",
    "There are 2 main methods of detecting communities:\n",
    "1. #### Divisive Methods (Top-down):\n",
    "    - Start with connected graph\n",
    "    - Remove edges one by one based on 'betweeness' of nodes, i.e. remove edges between weakly linked nodes first\n",
    "2. #### Agglomerative Methods (Bottom-Up):\n",
    "    - Start with a graph of singleton nodes (no edges)\n",
    "    - Add edges one by one based on 'closeness' of nodes, i.e. join more connected nodes first.\n"
   ]
  },
  {
   "cell_type": "markdown",
   "metadata": {},
   "source": [
    "## Edge-Betweenness (Divisive)\n",
    "Edge-betweenness of an edge is the number of geodesics (shortest paths) that use that edge.\n",
    "##### Girvan-Newman Algorithm\n",
    "1. Compute betweenness scores for all edges in the network\n",
    "2. Remove the edge with the highest score\n",
    "3. Re-compute betweenness scores for remaining edges \n",
    "4. Repeat from 2 until graph is split into 2 (or more) subgraphs"
   ]
  },
  {
   "cell_type": "code",
   "execution_count": null,
   "metadata": {},
   "outputs": [],
   "source": [
    "def edge_to_remove(graph):\n",
    "    # find edge-betweenness scores for the graph\n",
    "    G_dict = nx.edge_betweenness_centrality(graph)\n",
    "    edge = ()\n",
    "\n",
    "    # extract the edge with highest edge betweenness centrality score\n",
    "    pairs = sorted(G_dict.items(), key=lambda item: item[1], reverse = True)\n",
    "    for key, value in pairs:\n",
    "        edge = key\n",
    "        break\n",
    "\n",
    "    return(edge)"
   ]
  },
  {
   "cell_type": "code",
   "execution_count": null,
   "metadata": {},
   "outputs": [],
   "source": [
    "def girvan_newman(graph):\n",
    "    # find number of connected components\n",
    "    subgraphs = nx.connected_components(graph)\n",
    "    subgraph_count = nx.number_connected_components(graph)\n",
    "\n",
    "    while(subgraph_count == 1): # repeat below until there is more than 1\n",
    "        source, target = edge_to_remove(graph)\n",
    "        graph.remove_edge(source,target)\n",
    "        subgraphs = nx.connected_components(graph)\n",
    "        subgraph_count = nx.number_connected_components(graph)\n",
    "\n",
    "    return(subgraphs)"
   ]
  },
  {
   "cell_type": "code",
   "execution_count": null,
   "metadata": {},
   "outputs": [],
   "source": [
    "# Karate club example\n",
    "G = nx.karate_club_graph()\n",
    "positions = nx.spring_layout(G)\n",
    "\n",
    "nx.draw(G, with_labels = True)"
   ]
  },
  {
   "cell_type": "code",
   "execution_count": null,
   "metadata": {},
   "outputs": [],
   "source": [
    "# find communities in the graph\n",
    "components = girvan_newman(G.copy())\n",
    "\n",
    "# find the nodes forming the communities\n",
    "node_groups = []\n",
    "\n",
    "for i in components:\n",
    "    node_groups.append(list(i))"
   ]
  },
  {
   "cell_type": "code",
   "execution_count": null,
   "metadata": {},
   "outputs": [],
   "source": [
    "for group in node_groups:\n",
    "    print(group)"
   ]
  },
  {
   "cell_type": "code",
   "execution_count": null,
   "metadata": {},
   "outputs": [],
   "source": [
    "# plot the communities\n",
    "color_map = []\n",
    "for node in G:\n",
    "    if node in node_groups[0]:\n",
    "        color_map.append('blue')\n",
    "    else: \n",
    "        color_map.append('green')  \n",
    "\n",
    "nx.draw(G, node_color=color_map, with_labels=True)"
   ]
  },
  {
   "cell_type": "code",
   "execution_count": null,
   "metadata": {},
   "outputs": [],
   "source": [
    "more_node_groups = []\n",
    "for group in node_groups:\n",
    "    # get the sub_graph of the node group\n",
    "    sub_graph = G.subgraph(group)\n",
    "    # find the communities in this subgraph\n",
    "    sub_components = girvan_newman(sub_graph.copy())\n",
    "\n",
    "    # find the nodes forming the communities\n",
    "    for i in sub_components:\n",
    "        more_node_groups.append(list(i))"
   ]
  },
  {
   "cell_type": "code",
   "execution_count": null,
   "metadata": {},
   "outputs": [],
   "source": [
    "for group in more_node_groups:\n",
    "    print(group)"
   ]
  },
  {
   "cell_type": "code",
   "execution_count": null,
   "metadata": {},
   "outputs": [],
   "source": [
    "# plot the communities\n",
    "color_map = []\n",
    "colors = ['blue','cyan','green','lime','purple']\n",
    "groups = np.arange(len(more_node_groups))\n",
    "for node in G:\n",
    "    # identify which group the node is in\n",
    "    idx = [(node in group) for group in more_node_groups]\n",
    "    color_map.append(colors[groups[idx][0]]) \n",
    "\n",
    "nx.draw(G, node_color=color_map, with_labels=True)\n",
    "#plt.show()"
   ]
  },
  {
   "cell_type": "markdown",
   "metadata": {},
   "source": [
    "Can calculate the modularity of the partition after each round of splits to decide when to stop splitting. Generally, stop once further subdivision of groups doesn't lead to increase in modularity."
   ]
  },
  {
   "cell_type": "code",
   "execution_count": null,
   "metadata": {},
   "outputs": [],
   "source": [
    "print('Modularity of first division:  ' + str(nx_comm.modularity(G,node_groups)))\n",
    "\n",
    "print('Modularity of second division:  ' + str(nx_comm.modularity(G,more_node_groups)))"
   ]
  },
  {
   "cell_type": "markdown",
   "metadata": {},
   "source": [
    "## Hierarchical Clustering (Agglomerative)\n",
    "\n",
    "1. Compute \"similarity\" of nodes in the graph\n",
    "    - a variety of ways to define 'similarity'\n",
    "    - can be based on additional information about the nodes other than connections\n",
    "    - can use Cosine similarity (can work also for weighted graphs) \n",
    "    $$ \\sigma_{i j} = \\frac{\\sum_k A_{i k} A_{k j}}{\\sqrt{\\sum_k A_{i k}^2 \\sum_k A_{j k}^2}} = \\frac{n_{i j}}{\\sqrt{k_i k_j}}$$\n",
    "2. Group nodes by how similar they are starting with the most similar pair of nodes"
   ]
  },
  {
   "cell_type": "code",
   "execution_count": null,
   "metadata": {},
   "outputs": [],
   "source": [
    "N = len(G)\n",
    "# compute similarity matrix\n",
    "S = np.zeros((N,N))\n",
    "for i in range(N):\n",
    "    for j in range(i+1,N):\n",
    "        nij = len(set(G.neighbors(i)) & set(G.neighbors(j)))\n",
    "        ki = G.degree(i)\n",
    "        kj = G.degree(j)\n",
    "        S[i,j] = nij / np.sqrt(ki*kj)\n",
    "        S[j,i] = S[i,j]"
   ]
  },
  {
   "cell_type": "code",
   "execution_count": null,
   "metadata": {},
   "outputs": [],
   "source": [
    "Z = hierarchy.linkage((1-S)[np.triu_indices(N,1)],method='average')"
   ]
  },
  {
   "cell_type": "markdown",
   "metadata": {},
   "source": [
    "Linkage methods: Determine a node's distance from a community\n",
    "1. Single: The closest node\n",
    "2. Complete: The furthest node\n",
    "3. Average: The average distance\n",
    " \n",
    "Use `help(hierarchy.linkage)` to view more linkage methods"
   ]
  },
  {
   "cell_type": "code",
   "execution_count": null,
   "metadata": {},
   "outputs": [],
   "source": [
    "plt.figure(figsize=(16,5))\n",
    "dn = hierarchy.dendrogram(Z)"
   ]
  },
  {
   "cell_type": "code",
   "execution_count": null,
   "metadata": {},
   "outputs": [],
   "source": [
    "# extract clusters\n",
    "num_clusters = 2 #number of clusters\n",
    "cutree = hierarchy.cut_tree(Z, n_clusters=num_clusters).ravel()"
   ]
  },
  {
   "cell_type": "code",
   "execution_count": null,
   "metadata": {},
   "outputs": [],
   "source": [
    "np.c_[range(N),cutree]"
   ]
  },
  {
   "cell_type": "code",
   "execution_count": null,
   "metadata": {},
   "outputs": [],
   "source": [
    "# plot the communities\n",
    "color_map = []\n",
    "colors = ['blue','cyan','green','lime','purple','red','orange','yellow']\n",
    "groups = np.arange(len(more_node_groups))\n",
    "for node in G:\n",
    "    # identify which group the node is in\n",
    "    #idx = [(node in group) for group in sub_node_groups]\n",
    "    color_map.append(colors[cutree[node]]) \n",
    "\n",
    "nx.draw(G, node_color=color_map,pos = positions, with_labels=True)\n",
    "#plt.show()"
   ]
  },
  {
   "cell_type": "markdown",
   "metadata": {},
   "source": [
    "## Markov Clustering (MCL)\n",
    "An unsupervised method (does require choosing the number of communities).\n",
    "\n",
    "Works by simulating a Markov process (Random walk) in a graph until it reaches equilibrium.\n",
    "1. Add self-loops to weight matrix $W$ to make it aperiodic, e.g. set $W_{i i}=1$\n",
    "2. Make a transition probability matrix $P$ from the graph weight matrix by normalizing the rows, i.e. divide by row sums.\n",
    "3. The random walk is simulated by two alternating operations\n",
    "    - Expansion: Allows random walk to taker higher length paths between nodes. Expansion parameter $n \\geq 2$\n",
    "    $$ P \\rightarrow P^n$$\n",
    "    - Inflation: Changes transition probability matrix to favour more probable walks. Inflation parameter $r>1$ $$ P_{i j} \\rightarrow \\frac{P_{i j}^r}{\\sum_k P_{i k}^r}$$\n",
    "4. Should converge to a disconnected P defining communities by absorbing components."
   ]
  },
  {
   "cell_type": "code",
   "execution_count": null,
   "metadata": {},
   "outputs": [],
   "source": [
    "# Build adjacency matrix\n",
    "A = nx.to_numpy_matrix(G)"
   ]
  },
  {
   "cell_type": "code",
   "execution_count": null,
   "metadata": {},
   "outputs": [],
   "source": [
    "# Run MCL algorithm\n",
    "n = 2  #expansion parameter\n",
    "r = 2  #inflation parameter\n",
    "result = mc.run_mcl(A, expansion = n, inflation = r)\n",
    "clusters = mc.get_clusters(result)\n",
    "\n",
    "# Draw clusters\n",
    "mc.draw_graph(A, clusters, pos = positions,with_labels=True, edge_color=\"silver\")"
   ]
  },
  {
   "cell_type": "code",
   "execution_count": null,
   "metadata": {},
   "outputs": [],
   "source": [
    "for group in clusters:\n",
    "    print(group)"
   ]
  },
  {
   "cell_type": "code",
   "execution_count": null,
   "metadata": {},
   "outputs": [],
   "source": [
    "for group in node_groups:\n",
    "    print(group)"
   ]
  },
  {
   "cell_type": "code",
   "execution_count": null,
   "metadata": {},
   "outputs": [],
   "source": []
  }
 ],
 "metadata": {
  "kernelspec": {
   "display_name": "Python 3",
   "language": "python",
   "name": "python3"
  },
  "language_info": {
   "codemirror_mode": {
    "name": "ipython",
    "version": 3
   },
   "file_extension": ".py",
   "mimetype": "text/x-python",
   "name": "python",
   "nbconvert_exporter": "python",
   "pygments_lexer": "ipython3",
   "version": "3.7.9"
  }
 },
 "nbformat": 4,
 "nbformat_minor": 4
}

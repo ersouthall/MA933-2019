{
 "cells": [
  {
   "cell_type": "markdown",
   "metadata": {},
   "source": [
    "# Random Graphs\n",
    "**Erdos-Renyi random graph**. This graph is composed by $N$ nodes and each connection between pairs of nodes are stablished according to probability $p$. This is a typical case of a Bernoulli process.\n",
    "\n",
    "Notice that the average degree of the generated network is not exactly as the input average degree. The input degree is the expected number of connections.\n",
    "\n",
    "`nx.gnp_random_graph`: Returns a $G_{n,k}$ random graph, also known as an Erdős-Rényi random graph or a binomial graph.\n"
   ]
  },
  {
   "cell_type": "code",
   "execution_count": null,
   "metadata": {},
   "outputs": [],
   "source": [
    "import networkx as nx\n",
    "import matplotlib.pyplot as plt\n",
    "import numpy as np\n",
    "from scipy import stats\n",
    "from scipy.stats import poisson\n",
    "from scipy.stats import binom\n",
    "import sdeint"
   ]
  },
  {
   "cell_type": "code",
   "execution_count": null,
   "metadata": {},
   "outputs": [],
   "source": [
    "N = 100\n",
    "av_degree = 8\n",
    "p = av_degree/(N-1)\n",
    "G = nx.gnp_random_graph(N, p, seed=None, directed=False)"
   ]
  },
  {
   "cell_type": "code",
   "execution_count": null,
   "metadata": {},
   "outputs": [],
   "source": [
    "N = len(G)\n",
    "M = G.number_of_edges()\n",
    "print('Number of nodes:', N)\n",
    "print('Number of edges:', M)\n",
    "print('Average degree:', 2*M/N)"
   ]
  },
  {
   "cell_type": "code",
   "execution_count": null,
   "metadata": {},
   "outputs": [],
   "source": [
    "pos = nx.fruchterman_reingold_layout(G);\n",
    "plt.figure(figsize=(8,8));\n",
    "plt.axis(\"off\");\n",
    "nx.draw_networkx_nodes(G, pos, node_size=300, node_color=\"black\");\n",
    "nx.draw_networkx_edges(G, pos, alpha=0.500);\n",
    "nx.draw_networkx_labels(G, pos, font_color=\"white\");\n",
    "plt.show();"
   ]
  },
  {
   "cell_type": "code",
   "execution_count": null,
   "metadata": {},
   "outputs": [],
   "source": [
    "def degree_distribution(GER):\n",
    "    vk = dict(GER.degree())\n",
    "    vk = list(vk.values()) # we get only the degree values\n",
    "    maxk = np.max(vk)\n",
    "    mink = np.min(min)\n",
    "    kvalues= np.arange(0,maxk+1) # possible values of k\n",
    "    Pk = np.zeros(maxk+1) # P(k)\n",
    "    for k in vk:\n",
    "        Pk[k] = Pk[k] + 1\n",
    "    Pk = Pk/sum(Pk) # the sum of the elements of P(k) must to be equal to one\n",
    "    return kvalues,Pk"
   ]
  },
  {
   "cell_type": "code",
   "execution_count": null,
   "metadata": {},
   "outputs": [],
   "source": [
    "ks, Pk = degree_distribution(G)"
   ]
  },
  {
   "cell_type": "code",
   "execution_count": null,
   "metadata": {},
   "outputs": [],
   "source": [
    "plt.figure()\n",
    "plt.plot(ks,Pk,'bo', label='Data')\n",
    "plt.xlabel(\"k\", fontsize=20)\n",
    "plt.ylabel(\"P(k)\", fontsize=20)\n",
    "plt.title(\"Degree distribution\", fontsize=20)\n",
    "plt.grid(True)\n",
    "plt.savefig('degree_dist.eps') #save the figure into a file\n",
    "\n",
    "## Fitting of. binomial distribution\n",
    "pk = binom.pmf(ks, N-1, p)\n",
    "plt.plot(ks, pk, 'r', label='Binomial distribution')\n",
    "plt.legend()\n",
    "plt.show(True)"
   ]
  },
  {
   "cell_type": "markdown",
   "metadata": {},
   "source": [
    "### Poisson Distribution\n",
    "\n",
    "For Poisson Distribution (previously demonstrated with binomial dist) use `scipy.stats.poisson.pmf(x, μ)`, where the probability mass function for poisson is: $$\\exp(-\\mu)\\frac{\\mu^k}{k!}$$"
   ]
  },
  {
   "cell_type": "code",
   "execution_count": null,
   "metadata": {},
   "outputs": [],
   "source": [
    "#example\n",
    "z = 0.6\n",
    "N = 1000\n",
    "x = range(5)\n",
    "plt.plot(x, poisson.pmf(x, z))"
   ]
  },
  {
   "cell_type": "markdown",
   "metadata": {},
   "source": [
    "## Expected size of the largest two components: plot (z, expected size)\n",
    "\n",
    "Recall from `Support_class_6.ipynb` that \n",
    "\n",
    "`sorted([G.subgraph(c) for c in nx.connected_components(G)], key = len, reverse=True)`, \n",
    "\n",
    "returns nodes contained in each component listed from largest to smallest"
   ]
  },
  {
   "cell_type": "code",
   "execution_count": null,
   "metadata": {},
   "outputs": [],
   "source": [
    "z = np.arange(0.1, 3, 0.1) #Expected average degree\n",
    "N=100\n",
    "realisations = 20\n",
    "p = z/N\n",
    "S1 = np.zeros((len(p), realisations))\n",
    "S2 = np.zeros((len(p), realisations))\n",
    "\n",
    "for i in range(realisations):\n",
    "    for index, j in enumerate(p):\n",
    "        G=nx.gnp_random_graph(N,j) # build a graph\n",
    "        Components = sorted([G.subgraph(c) for c in nx.connected_components(G)], key = len, reverse=True)\n",
    "        S1[index,i] = len(Components[0]) #size of largest connected component \n",
    "        if len(Components) == 1: #check if graph is fully connected\n",
    "            S2[index,i] = 0\n",
    "        else:\n",
    "            S2[index,i] = len(Components[1]) #size of 2nd largest component"
   ]
  },
  {
   "cell_type": "code",
   "execution_count": null,
   "metadata": {},
   "outputs": [],
   "source": [
    "Expected_S1 = np.mean(S1, axis = 1)\n",
    "Expected_S2 = np.mean(S2, axis = 1)"
   ]
  },
  {
   "cell_type": "code",
   "execution_count": null,
   "metadata": {},
   "outputs": [],
   "source": [
    "plt.figure(figsize = (10,5))\n",
    "plt.plot(z, Expected_S1, label = \"largest component size\")\n",
    "plt.plot(z, Expected_S2, label = \"second largest component size\")\n",
    "plt.ylabel(\"Expected Size\", fontsize = 20)\n",
    "plt.xlabel(\"z\", fontsize = 20)\n",
    "plt.title(\"Expected size of the largest two components for N =100\", fontsize = 20)\n",
    "plt.legend(loc = \"upper left\", fontsize = 16)"
   ]
  },
  {
   "cell_type": "markdown",
   "metadata": {},
   "source": [
    "## Expected local clustering coefficient\n",
    "The clustering coefficient of a random network is equal to $p$."
   ]
  },
  {
   "cell_type": "code",
   "execution_count": null,
   "metadata": {},
   "outputs": [],
   "source": [
    "avc = nx.average_clustering(G)\n",
    "print(\"Average clustering:\", avc, 'and, p = ', j)"
   ]
  },
  {
   "cell_type": "code",
   "execution_count": null,
   "metadata": {},
   "outputs": [],
   "source": [
    "z = np.arange(0.1, 10, 0.1)\n",
    "N=100\n",
    "realisations = 20\n",
    "p = z/N\n",
    "CC = np.zeros((len(p), realisations))\n",
    "for i in range(realisations):\n",
    "    for index, j in enumerate(p):\n",
    "        G=nx.gnp_random_graph(N,j) # build a graph\n",
    "        c=nx.average_clustering(G)\n",
    "        CC[index,i] = c"
   ]
  },
  {
   "cell_type": "code",
   "execution_count": null,
   "metadata": {},
   "outputs": [],
   "source": [
    "average_CC = np.mean(CC, axis = 1)"
   ]
  },
  {
   "cell_type": "code",
   "execution_count": null,
   "metadata": {},
   "outputs": [],
   "source": [
    "plt.figure(figsize = (10,5))\n",
    "plt.plot(z, average_CC, \"o\")\n",
    "plt.ylabel(\"Expected clustering coef\", fontsize = 20)\n",
    "plt.xlabel(\"z\", fontsize = 20)"
   ]
  },
  {
   "cell_type": "markdown",
   "metadata": {},
   "source": [
    "## Wigner semi-circle law\n",
    "Spectrum of adjacency matrix $A$: set of eigenvalues of a matrix\n",
    "\n",
    "Plot eigenvalue against spectral density (and compare this to wigner semi-circle law).\n",
    "\n",
    "Use `nx.to_numpy_matrix(G)` to get the adjacency matrix (in numpy format). There exists `nx.adjacency_matrix(G)` which creates a **sparse matrix** -- better for large data sets"
   ]
  },
  {
   "cell_type": "code",
   "execution_count": null,
   "metadata": {},
   "outputs": [],
   "source": [
    "z = 10\n",
    "N = 100\n",
    "p = z/N\n",
    "G = nx.gnp_random_graph(N,p)"
   ]
  },
  {
   "cell_type": "code",
   "execution_count": null,
   "metadata": {},
   "outputs": [],
   "source": [
    "#nx.draw(G)"
   ]
  },
  {
   "cell_type": "code",
   "execution_count": null,
   "metadata": {},
   "outputs": [],
   "source": [
    "A = nx.to_numpy_matrix(G)\n",
    "evals, evecs = np.linalg.eig(A/np.sqrt(N))"
   ]
  },
  {
   "cell_type": "code",
   "execution_count": null,
   "metadata": {},
   "outputs": [],
   "source": [
    "spectral_density = stats.gaussian_kde(evals, bw_method = 0.05)\n",
    "λ = np.linspace(evals.min(), evals.max(), N)"
   ]
  },
  {
   "cell_type": "code",
   "execution_count": null,
   "metadata": {},
   "outputs": [],
   "source": [
    "plt.plot(λ, spectral_density(λ))\n",
    "plt.xlabel('λ', fontsize = 20)\n",
    "plt.ylabel('ρ(λ)', fontsize = 20)"
   ]
  },
  {
   "cell_type": "markdown",
   "metadata": {},
   "source": [
    "### Wigner semi cirle\n",
    "A **wigner matrix** is a real, symmetric matrix with iid entries $a_{ij}$, $\\mathbb{E}(a_{ij}) =0$, var$(a_{ij}) = \\sigma^2$.\n",
    "\n",
    "**Wigner semi-circle law** - the spectral density $\\rho_N$ of the matrix $\\frac{A}{\\sqrt{N}}$ converges with probability 1 to: $$ (2 \\pi \\sigma^2)^{-1} \\sqrt{4 \\sigma^2 - \\lambda^2} \\ \\text{,if} \\ |\\lambda|<2\\sigma$$"
   ]
  },
  {
   "cell_type": "code",
   "execution_count": null,
   "metadata": {},
   "outputs": [],
   "source": [
    "def semicircle(σ, μ, λ):\n",
    "    wigner = np.zeros(len(λ))\n",
    "    for j in range(len(λ)):\n",
    "        if abs(λ[j])< 2*σ:\n",
    "            wigner[j] = (1/(2*np.pi*σ**2))*np.sqrt(4*σ**2 - λ[j]**2)\n",
    "        else:\n",
    "            wigner[j] = 0\n",
    "    return wigner"
   ]
  },
  {
   "cell_type": "code",
   "execution_count": null,
   "metadata": {},
   "outputs": [],
   "source": [
    "ee = np.linspace(-0.7, 0.7, 100000)"
   ]
  },
  {
   "cell_type": "code",
   "execution_count": null,
   "metadata": {},
   "outputs": [],
   "source": [
    "AA = A.flatten()\n",
    "σ = np.std(AA)\n",
    "μ = np.mean(AA)\n",
    "wigner = semicircle(σ, μ, ee)"
   ]
  },
  {
   "cell_type": "code",
   "execution_count": null,
   "metadata": {},
   "outputs": [],
   "source": [
    "plt.figure(figsize = (10,5))\n",
    "plt.plot(λ, spectral_density(λ))\n",
    "plt.plot(ee, wigner)\n",
    "plt.xlabel('λ', fontsize = 20)\n",
    "plt.ylabel('ρ(λ)', fontsize = 20)\n",
    "plt.xlim([-0.75, 0.75])"
   ]
  },
  {
   "cell_type": "code",
   "execution_count": null,
   "metadata": {},
   "outputs": [],
   "source": []
  }
 ],
 "metadata": {
  "kernelspec": {
   "display_name": "Python 3",
   "language": "python",
   "name": "python3"
  },
  "language_info": {
   "codemirror_mode": {
    "name": "ipython",
    "version": 3
   },
   "file_extension": ".py",
   "mimetype": "text/x-python",
   "name": "python",
   "nbconvert_exporter": "python",
   "pygments_lexer": "ipython3",
   "version": "3.7.9"
  }
 },
 "nbformat": 4,
 "nbformat_minor": 2
}
